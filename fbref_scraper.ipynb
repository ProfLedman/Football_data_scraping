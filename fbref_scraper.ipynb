{
 "cells": [
  {
   "cell_type": "code",
   "execution_count": 1,
   "id": "53947ed6",
   "metadata": {},
   "outputs": [],
   "source": [
    "import requests\n",
    "import pandas as pd\n",
    "from bs4 import BeautifulSoup\n",
    "import re\n",
    "from urllib.request import urlopen"
   ]
  },
  {
   "cell_type": "code",
   "execution_count": null,
   "id": "45849638",
   "metadata": {},
   "outputs": [],
   "source": [
    "url = \"https://fbref.com/en/matches/\"\n",
    "headers = {\"User-Agent\": \"Mozilla/5.0\"}\n",
    "fixtures = []\n",
    "\n",
    "try:\n",
    "    response = requests.get(url, headers=headers, timeout=10)\n",
    "    response.raise_for_status()  # raise error for bad responses\n",
    "    soup = BeautifulSoup(response.content, \"html.parser\")\n",
    "except requests.RequestException as e:\n",
    "    print(f\"Error fetching {url}: {e}\")\n",
    "    fixtures = []\n"
   ]
  },
  {
   "cell_type": "code",
   "execution_count": 2,
   "id": "d6c96dc8",
   "metadata": {},
   "outputs": [
    {
     "name": "stdout",
     "output_type": "stream",
     "text": [
      "Collected 35 fixtures\n",
      "{'Competition': 'engChampionship', 'Wk': '6', 'Time': '20:00', 'Home': 'Millwall', 'Home_URL': 'https://fbref.com/en/squads/e3c537a1/Millwall-Stats', 'xG': '0.7', 'Score': '1–0', 'Score_URL': 'https://fbref.com/en/matches/a0d4b2d4/Millwall-Watford-September-22-2025-Championship', 'Away': 'Watford', 'Away_URL': 'https://fbref.com/en/squads/2abfe087/Watford-Stats', 'Attendance': '14,586', 'Venue': 'The Den', 'Referee': 'Joshua Smith', 'Match Report': 'Match Report', 'Match Report_URL': 'https://fbref.com/en/matches/a0d4b2d4/Millwall-Watford-September-22-2025-Championship', 'Notes': ''}\n",
      "{'Competition': 'esSegunda División', 'Wk': '6', 'Time': '20:30', 'Home': 'Burgos', 'Home_URL': 'https://fbref.com/en/squads/d9fac124/Burgos-Stats', 'Score': '1–1', 'Score_URL': 'https://fbref.com/en/matches/0dea0916/Burgos-Granada-September-22-2025-Segunda-Division', 'Away': 'Granada', 'Away_URL': 'https://fbref.com/en/squads/a0435291/Granada-Stats', 'Attendance': '8,887', 'Venue': 'Estadio Municipal de El Plantío', 'Referee': 'Rafael Sánchez', 'Match Report': 'Match Report', 'Match Report_URL': 'https://fbref.com/en/matches/0dea0916/Burgos-Granada-September-22-2025-Segunda-Division', 'Notes': ''}\n",
      "{'Competition': 'deFrauen-Bundesliga', 'Wk': '3', 'Time': '18:00', 'Home': 'Eint Frankfurt', 'Home_URL': 'https://fbref.com/en/squads/97b7c0e8/Eintracht-Frankfurt-Women-Stats', 'xG': '1.0', 'Score': '4–3', 'Score_URL': 'https://fbref.com/en/matches/de343f97/Eintracht-Frankfurt-RB-Leipzig-September-22-2025-Frauen-Bundesliga', 'Away': 'RB Leipzig', 'Away_URL': 'https://fbref.com/en/squads/9224f982/RB-Leipzig-Women-Stats', 'Attendance': '', 'Venue': 'Stadion am Brentanobad', 'Referee': 'Annika Kost', 'Match Report': 'Match Report', 'Match Report_URL': 'https://fbref.com/en/matches/de343f97/Eintracht-Frankfurt-RB-Leipzig-September-22-2025-Frauen-Bundesliga', 'Notes': ''}\n",
      "{'Competition': 'itSerie A', 'Wk': '4', 'Time': '20:45', 'Home': 'Napoli', 'Home_URL': 'https://fbref.com/en/squads/d48ad4ff/Napoli-Stats', 'xG': '2.4', 'Score': '3–2', 'Score_URL': 'https://fbref.com/en/matches/9c366f0d/Napoli-Pisa-September-22-2025-Serie-A', 'Away': 'Pisa', 'Away_URL': 'https://fbref.com/en/squads/4cceedfc/Pisa-Stats', 'Attendance': '', 'Venue': 'Stadio Diego Armando Maradona', 'Referee': 'Valerio Crezzini', 'Match Report': 'Match Report', 'Match Report_URL': 'https://fbref.com/en/matches/9c366f0d/Napoli-Pisa-September-22-2025-Serie-A', 'Notes': ''}\n",
      "{'Competition': 'frLigue 1', 'Wk': '5', 'Time': '20:00', 'Home': 'Marseille', 'Home_URL': 'https://fbref.com/en/squads/5725cc7b/Marseille-Stats', 'xG': '0.7', 'Score': '1–0', 'Score_URL': 'https://fbref.com/en/matches/e53e3ae2/Marseille-Paris-Saint-Germain-September-22-2025-Ligue-1', 'Away': 'Paris S-G', 'Away_URL': 'https://fbref.com/en/squads/e2d8892c/Paris-Saint-Germain-Stats', 'Attendance': '', 'Venue': 'Orange Vélodrome', 'Referee': 'Jérôme Brisard', 'Match Report': 'Match Report', 'Match Report_URL': 'https://fbref.com/en/matches/e53e3ae2/Marseille-Paris-Saint-Germain-September-22-2025-Ligue-1', 'Notes': ''}\n"
     ]
    }
   ],
   "source": [
    "# Loop through each competition section\n",
    "for header in soup.find_all(\"h2\"):\n",
    "    competition = header.get_text(strip=True).replace(\" Scores & Fixtures\", \"\")\n",
    "    table = header.find_next(\"table\")\n",
    "    if not table:\n",
    "        continue\n",
    "\n",
    "    # Extract headers from the table\n",
    "    try:\n",
    "        headers_row = [th.get_text(strip=True) for th in table.find(\"thead\").find_all(\"th\")]\n",
    "    except AttributeError:\n",
    "        print(f\"No headers found for {competition}, skipping...\")\n",
    "        continue\n",
    "\n",
    "    tbody = table.find(\"tbody\")\n",
    "    if not tbody:\n",
    "        continue\n",
    "\n",
    "    for row in tbody.find_all(\"tr\"):\n",
    "        cells = row.find_all(\"td\")\n",
    "        if not cells:\n",
    "            continue  # skip header/separator rows\n",
    "\n",
    "        row_data = {\"Competition\": competition}\n",
    "\n",
    "        # Map cells to their respective headers\n",
    "        for i, cell in enumerate(cells):\n",
    "            col_name = headers_row[i+1] if i+1 < len(headers_row) else f\"Col_{i}\"\n",
    "            row_data[col_name] = cell.get_text(strip=True) if cell else None\n",
    "\n",
    "            # Capture match link if available\n",
    "            link = cell.find(\"a\")\n",
    "            if link and \"href\" in link.attrs:\n",
    "                row_data[f\"{col_name}_URL\"] = \"https://fbref.com\" + link[\"href\"]\n",
    "\n",
    "        fixtures.append(row_data)\n",
    "\n",
    "# Preview results\n",
    "print(f\"Collected {len(fixtures)} fixtures\")\n",
    "if fixtures:\n",
    "    for fix in fixtures[:5]:\n",
    "        print(fix)"
   ]
  }
 ],
 "metadata": {
  "kernelspec": {
   "display_name": "base",
   "language": "python",
   "name": "python3"
  },
  "language_info": {
   "codemirror_mode": {
    "name": "ipython",
    "version": 3
   },
   "file_extension": ".py",
   "mimetype": "text/x-python",
   "name": "python",
   "nbconvert_exporter": "python",
   "pygments_lexer": "ipython3",
   "version": "3.12.3"
  }
 },
 "nbformat": 4,
 "nbformat_minor": 5
}
